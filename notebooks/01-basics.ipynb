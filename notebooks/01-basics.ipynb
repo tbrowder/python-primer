{
 "cells": [
  {
   "cell_type": "markdown",
   "metadata": {},
   "source": [
    "# The Basics: Synatx, Indentation, Comments, etc ..."
   ]
  },
  {
   "cell_type": "markdown",
   "metadata": {},
   "source": [
    "### Variables"
   ]
  },
  {
   "cell_type": "markdown",
   "metadata": {
    "collapsed": true
   },
   "source": [
    "- Python has similar syntax to C/C++/Java so it uses the same convention for naming variables: variable names can contain upper and lower case character & numbers, including the underscore ( \\_ ) character. \n",
    "- Variable names are case sensitive\n",
    "- Variable names can't start with numbers or special characters (except for the undescore character)\n",
    "- Variables cannot have the same names as Python keywords \n",
    "\n",
    "\n",
    "\n",
    "| Keywords                      |\n",
    "|:-:|:-:|:-:|:-:|:-:|:-:|:-:|:-:|\n",
    "|and|assert | as\t|break |class|continue|def|del\t|\n",
    "|elif |else\t|except\t|exec|finally |for|from\t|global\t|\n",
    "|if\t|import|in\t|is|lambda\t|not|or\t|pass|\n",
    "|print\t|raise|return\t|try|while |with|yield |\t|"
   ]
  },
  {
   "cell_type": "code",
   "execution_count": 3,
   "metadata": {
    "collapsed": true
   },
   "outputs": [],
   "source": [
    "# this is a correct variable name\n",
    "variable_name = 10"
   ]
  },
  {
   "cell_type": "code",
   "execution_count": 4,
   "metadata": {
    "collapsed": false
   },
   "outputs": [
    {
     "ename": "SyntaxError",
     "evalue": "invalid syntax (<ipython-input-4-fb63971d7854>, line 2)",
     "output_type": "error",
     "traceback": [
      "\u001b[0;36m  File \u001b[0;32m\"<ipython-input-4-fb63971d7854>\"\u001b[0;36m, line \u001b[0;32m2\u001b[0m\n\u001b[0;31m    4tops = 5\u001b[0m\n\u001b[0m        ^\u001b[0m\n\u001b[0;31mSyntaxError\u001b[0m\u001b[0;31m:\u001b[0m invalid syntax\n"
     ]
    }
   ],
   "source": [
    "# this is not a correct variable name - variable names can't start with a number\n",
    "4tops = 5"
   ]
  },
  {
   "cell_type": "code",
   "execution_count": 4,
   "metadata": {
    "collapsed": false
   },
   "outputs": [
    {
     "ename": "SyntaxError",
     "evalue": "invalid syntax (<ipython-input-4-c4cc63a2ab19>, line 3)",
     "output_type": "error",
     "traceback": [
      "\u001b[0;36m  File \u001b[0;32m\"<ipython-input-4-c4cc63a2ab19>\"\u001b[0;36m, line \u001b[0;32m3\u001b[0m\n\u001b[0;31m    finally = 7\u001b[0m\n\u001b[0m          ^\u001b[0m\n\u001b[0;31mSyntaxError\u001b[0m\u001b[0;31m:\u001b[0m invalid syntax\n"
     ]
    }
   ],
   "source": [
    "# here's the error generated from using a Python keyword - notice the color of the variable name: it's not the same \n",
    "# as the one in the cells below\n",
    "finally = 7"
   ]
  },
  {
   "cell_type": "code",
   "execution_count": 6,
   "metadata": {
    "collapsed": false
   },
   "outputs": [
    {
     "name": "stdout",
     "output_type": "stream",
     "text": [
      "distance =  10\n",
      "Distance =  20\n",
      "disTance =  30\n"
     ]
    }
   ],
   "source": [
    "# these variables are not the same\n",
    "distance = 10\n",
    "Distance = 20\n",
    "disTance = 30\n",
    "\n",
    "print \"distance = \", distance\n",
    "print \"Distance = \", Distance\n",
    "print \"disTance = \", disTance"
   ]
  },
  {
   "cell_type": "markdown",
   "metadata": {},
   "source": [
    "### Indentation and Code Blocks"
   ]
  },
  {
   "cell_type": "code",
   "execution_count": 7,
   "metadata": {
    "collapsed": false
   },
   "outputs": [
    {
     "name": "stdout",
     "output_type": "stream",
     "text": [
      "x != 10\n",
      "Done\n",
      "Bye now\n"
     ]
    }
   ],
   "source": [
    "x = 11\n",
    "\n",
    "if x == 10:\n",
    "    print 'x = 10'\n",
    "else:\n",
    "    print 'x != 10'\n",
    "    print 'Done'\n",
    "\n",
    "print \"Bye now\"    \n"
   ]
  },
  {
   "cell_type": "markdown",
   "metadata": {},
   "source": [
    "### Statements/Multiline statements"
   ]
  },
  {
   "cell_type": "markdown",
   "metadata": {},
   "source": [
    "A new line signals the end of a statement"
   ]
  },
  {
   "cell_type": "code",
   "execution_count": null,
   "metadata": {
    "collapsed": true
   },
   "outputs": [],
   "source": [
    "# these are two separate statements\n",
    "a = 4\n",
    "b = 6"
   ]
  },
  {
   "cell_type": "markdown",
   "metadata": {},
   "source": [
    "For multi-line statements, use the \\ character at the end of the line"
   ]
  },
  {
   "cell_type": "code",
   "execution_count": 10,
   "metadata": {
    "collapsed": false
   },
   "outputs": [
    {
     "name": "stdout",
     "output_type": "stream",
     "text": [
      "30\n"
     ]
    }
   ],
   "source": [
    "# use line continuation symbol (use with care)\n",
    "a = 10 \\\n",
    "    + \\\n",
    "    10 + 10\n",
    "print a"
   ]
  },
  {
   "cell_type": "markdown",
   "metadata": {},
   "source": [
    "or put the multilines in ()"
   ]
  },
  {
   "cell_type": "code",
   "execution_count": 5,
   "metadata": {
    "collapsed": false
   },
   "outputs": [
    {
     "name": "stdout",
     "output_type": "stream",
     "text": [
      "50\n"
     ]
    }
   ],
   "source": [
    "# use prenthesis (preferable way) to have a multiline statements\n",
    "a = (10\n",
    "    +            20 +    \n",
    "    10 + 10)\n",
    "print a"
   ]
  },
  {
   "cell_type": "markdown",
   "metadata": {},
   "source": [
    "### Comments\n",
    "Comments begin after the # character which can appear anywhere on the line. Multiline comments begin and end with 3 matching ' or \" characters."
   ]
  },
  {
   "cell_type": "code",
   "execution_count": 6,
   "metadata": {
    "collapsed": true
   },
   "outputs": [],
   "source": [
    "# this is a line comment\n",
    "a = 10 # this is also a line comment\n",
    "'''\n",
    "this line is indsie a multi-line comment\n",
    "so is this\n",
    "and this\n",
    "'''\n",
    "a = 100 # this is outside the multi-line comment\n",
    "\n",
    "\"\"\"\n",
    "This is another way to declare a multi-line comment\n",
    "Inside it\n",
    "inside it too\n",
    "\"\"\"\n",
    "\n",
    "a = 100 # this is outside the multi-line comment"
   ]
  },
  {
   "cell_type": "markdown",
   "metadata": {
    "collapsed": true
   },
   "source": [
    "You can put a comment inside a muliline statement"
   ]
  },
  {
   "cell_type": "code",
   "execution_count": 1,
   "metadata": {
    "collapsed": false
   },
   "outputs": [
    {
     "name": "stdout",
     "output_type": "stream",
     "text": [
      "50\n"
     ]
    }
   ],
   "source": [
    "# multiline statement with comments\n",
    "a = (10 # this is line 1\n",
    "    +            20 +    # this is line 2\n",
    "    10 + 10)\n",
    "print a"
   ]
  }
 ],
 "metadata": {
  "kernelspec": {
   "display_name": "Python [Root]",
   "language": "python",
   "name": "Python [Root]"
  },
  "language_info": {
   "codemirror_mode": {
    "name": "ipython",
    "version": 2
   },
   "file_extension": ".py",
   "mimetype": "text/x-python",
   "name": "python",
   "nbconvert_exporter": "python",
   "pygments_lexer": "ipython2",
   "version": "2.7.12"
  },
  "widgets": {
   "state": {},
   "version": "1.1.1"
  }
 },
 "nbformat": 4,
 "nbformat_minor": 0
}
