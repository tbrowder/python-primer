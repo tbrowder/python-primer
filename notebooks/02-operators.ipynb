{
 "cells": [
  {
   "cell_type": "markdown",
   "metadata": {},
   "source": [
    "# Operators"
   ]
  },
  {
   "cell_type": "markdown",
   "metadata": {},
   "source": [
    "### Arithmetic"
   ]
  },
  {
   "cell_type": "code",
   "execution_count": 22,
   "metadata": {
    "collapsed": false
   },
   "outputs": [
    {
     "name": "stdout",
     "output_type": "stream",
     "text": [
      "a + b =  14\n",
      "a / b =  3\n",
      "a / d =  2.2\n",
      "c ** b =  64\n",
      "a % c =  3\n",
      "a // b =  3\n",
      "a // e =  -4\n"
     ]
    }
   ],
   "source": [
    "a = 11; b = 3; c = 4; d = 5.0; e=-3\n",
    "print \"a + b = \", a+b    # addition\n",
    "print \"a - d = \", a-d    # subtraction\n",
    "print \"a * e = \", a*e    # multiplication\n",
    "print \"a / b = \", a/b    # division of integers\n",
    "print \"a / d = \", a/d    # division of float\n",
    "print 'c ** b = ', c**b  # exponentiation\n",
    "print 'a % c = ', a%c    # remainder\n",
    "print 'a // b = ', a//b  # floor division\n",
    "print 'a // e = ', a//e  # floor division"
   ]
  },
  {
   "cell_type": "markdown",
   "metadata": {},
   "source": [
    "### Relational"
   ]
  },
  {
   "cell_type": "code",
   "execution_count": 24,
   "metadata": {
    "collapsed": false
   },
   "outputs": [
    {
     "name": "stdout",
     "output_type": "stream",
     "text": [
      "is a == b?  False\n",
      "is a != b?  True\n",
      "is a <> b?  True\n",
      "is a > b?  True\n",
      "is a >= b?  True\n",
      "is a < b?  False\n",
      "is a <= b?  False\n"
     ]
    }
   ],
   "source": [
    "a = 11; b = 3; c = 4; d = 5.0; e=-3\n",
    "print 'is a == b? ', a == b     # equality\n",
    "print 'is a != b? ', a != b     # not equal\n",
    "print 'is a <> b? ', a <> b     # not equal\n",
    "print 'is a > b? ', a > b       # greater than\n",
    "print 'is a >= b? ', a >= b     # greater then or equal to\n",
    "print 'is a < b? ', a < b       # less than\n",
    "print 'is a <= b? ', a <= b     # less then or equal to"
   ]
  },
  {
   "cell_type": "markdown",
   "metadata": {},
   "source": [
    "### Assignment"
   ]
  },
  {
   "cell_type": "code",
   "execution_count": 49,
   "metadata": {
    "collapsed": false
   },
   "outputs": [
    {
     "name": "stdout",
     "output_type": "stream",
     "text": [
      "a += b =  14\n",
      "a -= d =  9.0\n",
      "a *= e =  -27.0\n",
      "a /= b =  -9.0\n",
      "a /= d =  -1.8\n",
      "c **= b =  64\n",
      "a %= c =  62.2\n",
      "a //= b =  20.0\n",
      "a //= e =  -7.0\n"
     ]
    }
   ],
   "source": [
    "a = 11; b = 3; c = 4; d = 5.0; e=-3\n",
    "a+=b\n",
    "print \"a += b = \", a      # same as a = a + b\n",
    "a-=d\n",
    "print \"a -= d = \", a      # same as a = a - d\n",
    "a*=e\n",
    "print \"a *= e = \", a      # same as a = a * e\n",
    "a/=b\n",
    "print \"a /= b = \", a      # same as a = a / b (dividing integers)\n",
    "a/=d\n",
    "print \"a /= d = \", a      # same as a = a / d\n",
    "c**=b\n",
    "print 'c **= b = ', c     # c = c ** b\n",
    "a%=c\n",
    "print 'a %= c = ', a      # a = a % c\n",
    "a//=b\n",
    "print 'a //= b = ', a     # a = a // b\n",
    "a//=e\n",
    "print 'a //= e = ', a     # a = a // e"
   ]
  },
  {
   "cell_type": "markdown",
   "metadata": {},
   "source": [
    "### Logical "
   ]
  },
  {
   "cell_type": "code",
   "execution_count": 6,
   "metadata": {
    "collapsed": false
   },
   "outputs": [
    {
     "name": "stdout",
     "output_type": "stream",
     "text": [
      "False\n",
      "True\n",
      "True\n"
     ]
    }
   ],
   "source": [
    "# and\n",
    "# or \n",
    "# not\n",
    "c = True\n",
    "b = False\n",
    "\n",
    "print b and c\n",
    "print b or c\n",
    "print not b"
   ]
  },
  {
   "cell_type": "markdown",
   "metadata": {},
   "source": [
    "### Bitwise"
   ]
  },
  {
   "cell_type": "code",
   "execution_count": 16,
   "metadata": {
    "collapsed": false
   },
   "outputs": [
    {
     "name": "stdout",
     "output_type": "stream",
     "text": [
      "a = 28 ( 0b11100 )\n",
      "b = 45 ( 0b101101 )\n",
      "a & b = ( 12 0b1100 )\n",
      "a | b = ( 61 0b111101 )\n",
      "a ^ b = ( 49 0b110001 )\n",
      "~a = -29 ( -0b11101 )\n",
      "a << 2 = 112 ( 0b1110000 )\n",
      "a >> 2 = 7 ( 0b111 )\n"
     ]
    }
   ],
   "source": [
    "#& -- logical and\n",
    "# | -- logical or\n",
    "# ^ -- XOR\n",
    "# ~ -- One's Complement\n",
    "# >> -- left shift\n",
    "# << -- right shift\n",
    "\n",
    "\n",
    "a = 0b00011100\n",
    "b = 0b00101101\n",
    "print 'a =', a, '(', bin(a), ')'\n",
    "print 'b =', b, '(', bin(b), ')'\n",
    "print 'a & b =', '(', a & b, bin(a & b), ')'\n",
    "print 'a | b =', '(', a | b, bin(a | b), ')'\n",
    "print 'a ^ b =', '(', a ^ b, bin(a ^ b), ')'\n",
    "print '~a =', ~a, '(', bin(~a), ')'\n",
    "print 'a << 2 =', a << 2, '(', bin(a << 2), ')'\n",
    "print 'a >> 2 =', a >> 2, '(', bin(a >> 2), ')'"
   ]
  },
  {
   "cell_type": "markdown",
   "metadata": {},
   "source": [
    "### Membership"
   ]
  },
  {
   "cell_type": "code",
   "execution_count": 1,
   "metadata": {
    "collapsed": false
   },
   "outputs": [
    {
     "name": "stdout",
     "output_type": "stream",
     "text": [
      "True\n",
      "False\n",
      "False\n"
     ]
    }
   ],
   "source": [
    "# in \n",
    "# not in\n",
    "a = ['1', 2, 'this is an element', 'x']\n",
    "\n",
    "print 'x' in a\n",
    "print 'x' not in a\n",
    "print 5 in a"
   ]
  },
  {
   "cell_type": "markdown",
   "metadata": {},
   "source": [
    "### Identity"
   ]
  },
  {
   "cell_type": "code",
   "execution_count": 3,
   "metadata": {
    "collapsed": false
   },
   "outputs": [
    {
     "name": "stdout",
     "output_type": "stream",
     "text": [
      "True\n",
      "False\n"
     ]
    }
   ],
   "source": [
    "# is\n",
    "# is not\n",
    "\n",
    "a = 1\n",
    "b = a\n",
    "\n",
    "print b is a\n",
    "print b is not a"
   ]
  },
  {
   "cell_type": "markdown",
   "metadata": {},
   "source": [
    "### Extra"
   ]
  },
  {
   "cell_type": "code",
   "execution_count": 3,
   "metadata": {
    "collapsed": false
   },
   "outputs": [
    {
     "data": {
      "text/plain": [
       "(2, 4)"
      ]
     },
     "execution_count": 3,
     "metadata": {},
     "output_type": "execute_result"
    }
   ],
   "source": [
    "divmod(20,8)"
   ]
  },
  {
   "cell_type": "markdown",
   "metadata": {},
   "source": [
    "# Variable Types"
   ]
  },
  {
   "cell_type": "markdown",
   "metadata": {},
   "source": [
    "*We'll talk about lists, dictionaries, strings, & tuples in the following notebooks*"
   ]
  },
  {
   "cell_type": "code",
   "execution_count": 7,
   "metadata": {
    "collapsed": false
   },
   "outputs": [],
   "source": [
    "x = 786 # decimal int\n",
    "m = 060 # octal int\n",
    "s = 0x69 # hex int\n",
    "y = 0122L # long\n",
    "z = -21.9 # float\n",
    "f = 9.322e-36j # complex"
   ]
  },
  {
   "cell_type": "code",
   "execution_count": 8,
   "metadata": {
    "collapsed": false
   },
   "outputs": [
    {
     "data": {
      "text/plain": [
       "-9.322e-36j"
      ]
     },
     "execution_count": 8,
     "metadata": {},
     "output_type": "execute_result"
    }
   ],
   "source": [
    "# print the conjugate of the complex number\n",
    "f.conjugate()"
   ]
  },
  {
   "cell_type": "code",
   "execution_count": 9,
   "metadata": {
    "collapsed": false
   },
   "outputs": [
    {
     "name": "stdout",
     "output_type": "stream",
     "text": [
      "786\n",
      "48\n",
      "105\n",
      "82\n",
      "-21.9\n",
      "9.322e-36j\n"
     ]
    }
   ],
   "source": [
    "# print all the example variables\n",
    "print x\n",
    "print m\n",
    "print s\n",
    "print y\n",
    "print z\n",
    "print f"
   ]
  },
  {
   "cell_type": "code",
   "execution_count": 6,
   "metadata": {
    "collapsed": false
   },
   "outputs": [
    {
     "name": "stdout",
     "output_type": "stream",
     "text": [
      "numeber  600\n",
      "number is: 600\n",
      "string 1 is not the same as string 2\n",
      "string 1 is not the same as string 2\n",
      "1.7 plus 11.9 equals 13.6\n"
     ]
    }
   ],
   "source": [
    "number = 600 \n",
    "print 'numeber ', number\n",
    "print \"number is: %d\" % (number, )     \n",
    "str1 = \"string 1\" \n",
    "str2 = \"string 2\" \n",
    "print str1 + \" is not the same as \" + str2    \n",
    "print \"%s is not the same as %s\" % (str1, str2)    \n",
    "print '%s plus %s equals %s' % (1.7, 11.9, 13.6) \n"
   ]
  },
  {
   "cell_type": "code",
   "execution_count": 5,
   "metadata": {
    "collapsed": false
   },
   "outputs": [
    {
     "name": "stdout",
     "output_type": "stream",
     "text": [
      "the binary value of 10 is  0b1010\n",
      "Number of bytes :  4\n"
     ]
    }
   ],
   "source": [
    "# write a decimal number in binary\n",
    "x=10\n",
    "print \"the binary value of\", x, \"is \", bin(x)\n",
    "print \"Number of bytes : \", x.bit_length()"
   ]
  },
  {
   "cell_type": "code",
   "execution_count": 15,
   "metadata": {
    "collapsed": false
   },
   "outputs": [
    {
     "name": "stdout",
     "output_type": "stream",
     "text": [
      "x =  3.5\n",
      "x as the ratio of two integers: (7, 2)\n",
      "get the integer value of x: 3\n"
     ]
    }
   ],
   "source": [
    "# write a float as the ration of two integers\n",
    "x=3.5\n",
    "print \"x = \", x\n",
    "print \"x as the ratio of two integers:\", x.as_integer_ratio()\n",
    "print \"get the integer value of x:\", int(x)"
   ]
  },
  {
   "cell_type": "code",
   "execution_count": 22,
   "metadata": {
    "collapsed": false
   },
   "outputs": [
    {
     "name": "stdout",
     "output_type": "stream",
     "text": [
      "7.0\n"
     ]
    }
   ],
   "source": [
    "y = 42/6.0\n",
    "print y"
   ]
  },
  {
   "cell_type": "code",
   "execution_count": 23,
   "metadata": {
    "collapsed": false
   },
   "outputs": [
    {
     "data": {
      "text/plain": [
       "True"
      ]
     },
     "execution_count": 23,
     "metadata": {},
     "output_type": "execute_result"
    }
   ],
   "source": [
    "y.is_integer()"
   ]
  },
  {
   "cell_type": "code",
   "execution_count": 15,
   "metadata": {
    "collapsed": false
   },
   "outputs": [
    {
     "name": "stdout",
     "output_type": "stream",
     "text": [
      "3.14\n"
     ]
    }
   ],
   "source": [
    "# some more formatting\n",
    "x=3.1415926\n",
    "print '{:.2f}'.format(x)"
   ]
  }
 ],
 "metadata": {
  "anaconda-cloud": {},
  "kernelspec": {
   "display_name": "Python [Root]",
   "language": "python",
   "name": "Python [Root]"
  },
  "language_info": {
   "codemirror_mode": {
    "name": "ipython",
    "version": 2
   },
   "file_extension": ".py",
   "mimetype": "text/x-python",
   "name": "python",
   "nbconvert_exporter": "python",
   "pygments_lexer": "ipython2",
   "version": "2.7.12"
  },
  "widgets": {
   "state": {},
   "version": "1.1.1"
  }
 },
 "nbformat": 4,
 "nbformat_minor": 0
}
