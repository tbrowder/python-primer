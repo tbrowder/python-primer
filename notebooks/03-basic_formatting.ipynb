{
 "cells": [
  {
   "cell_type": "markdown",
   "metadata": {},
   "source": [
    "# Basic Formatting"
   ]
  },
  {
   "cell_type": "markdown",
   "metadata": {},
   "source": [
    "The following was obtained from ebeab.com"
   ]
  },
  {
   "cell_type": "code",
   "execution_count": 5,
   "metadata": {
    "collapsed": false
   },
   "outputs": [],
   "source": [
    "# define variables\n",
    "x = 3.1415926\n",
    "y = 1"
   ]
  },
  {
   "cell_type": "code",
   "execution_count": 3,
   "metadata": {
    "collapsed": false
   },
   "outputs": [
    {
     "name": "stdout",
     "output_type": "stream",
     "text": [
      "3.14\n"
     ]
    }
   ],
   "source": [
    "# 2 decimal places \n",
    "print \"{:.2f}\".format(x)"
   ]
  },
  {
   "cell_type": "code",
   "execution_count": 4,
   "metadata": {
    "collapsed": false
   },
   "outputs": [
    {
     "name": "stdout",
     "output_type": "stream",
     "text": [
      "+3.14\n"
     ]
    }
   ],
   "source": [
    "# 2 decimal palces with sign\n",
    "print \"{:+.2f}\".format(x)"
   ]
  },
  {
   "cell_type": "code",
   "execution_count": 5,
   "metadata": {
    "collapsed": false
   },
   "outputs": [
    {
     "name": "stdout",
     "output_type": "stream",
     "text": [
      "-1.00\n"
     ]
    }
   ],
   "source": [
    "# 2 decimal palces with sign\n",
    "print \"{:.2f}\".format(-y)"
   ]
  },
  {
   "cell_type": "code",
   "execution_count": 1,
   "metadata": {
    "collapsed": false
   },
   "outputs": [
    {
     "name": "stdout",
     "output_type": "stream",
     "text": [
      "4\n"
     ]
    }
   ],
   "source": [
    "# print with no decimal palces\n",
    "print \"{:.0f}\".format(3.51)"
   ]
  },
  {
   "cell_type": "code",
   "execution_count": 2,
   "metadata": {
    "collapsed": false
   },
   "outputs": [
    {
     "name": "stdout",
     "output_type": "stream",
     "text": [
      "0011\n"
     ]
    }
   ],
   "source": [
    "# left padded with 0's - width 4\n",
    "print \"{:0>4d}\".format(11)"
   ]
  },
  {
   "cell_type": "code",
   "execution_count": 3,
   "metadata": {
    "collapsed": false
   },
   "outputs": [
    {
     "name": "stdout",
     "output_type": "stream",
     "text": [
      "0000\n",
      "0001\n",
      "0002\n",
      "0003\n",
      "0004\n",
      "0005\n",
      "0006\n",
      "0007\n",
      "0008\n",
      "0009\n",
      "0010\n",
      "0011\n",
      "0012\n",
      "0013\n",
      "0014\n",
      "0015\n",
      "0016\n",
      "0017\n",
      "0018\n",
      "0019\n"
     ]
    }
   ],
   "source": [
    "# print consecutive zero-padded numbers\n",
    "for i in range(20):\n",
    "    print \"{:0>4d}\".format(i)"
   ]
  },
  {
   "cell_type": "code",
   "execution_count": 9,
   "metadata": {
    "collapsed": false
   },
   "outputs": [
    {
     "name": "stdout",
     "output_type": "stream",
     "text": [
      "33xx\n"
     ]
    }
   ],
   "source": [
    "# right padd with x's - total width 4\n",
    "print \"{:x<4d}\".format(33)"
   ]
  },
  {
   "cell_type": "code",
   "execution_count": 6,
   "metadata": {
    "collapsed": false
   },
   "outputs": [
    {
     "name": "stdout",
     "output_type": "stream",
     "text": [
      "1\n",
      "10xx\n"
     ]
    }
   ],
   "source": [
    "# right padd with x's - total width 4\n",
    "print y\n",
    "print \"{:x<4d}\".format(10*y)"
   ]
  },
  {
   "cell_type": "code",
   "execution_count": 11,
   "metadata": {
    "collapsed": false
   },
   "outputs": [
    {
     "name": "stdout",
     "output_type": "stream",
     "text": [
      "10,000,000,000,000\n"
     ]
    }
   ],
   "source": [
    "# insert a comma separator\n",
    "print \"{:,}\".format(10000000000000)"
   ]
  },
  {
   "cell_type": "code",
   "execution_count": 12,
   "metadata": {
    "collapsed": false
   },
   "outputs": [
    {
     "name": "stdout",
     "output_type": "stream",
     "text": [
      "12.3568%\n"
     ]
    }
   ],
   "source": [
    "# % format\n",
    "print \"{:.4%}\".format(0.1235676)"
   ]
  },
  {
   "cell_type": "code",
   "execution_count": 13,
   "metadata": {
    "collapsed": false
   },
   "outputs": [
    {
     "name": "stdout",
     "output_type": "stream",
     "text": [
      "1.000e+13\n"
     ]
    }
   ],
   "source": [
    "# exponent notation\n",
    "print \"{:.3e}\".format(10000000000000)"
   ]
  },
  {
   "cell_type": "code",
   "execution_count": 8,
   "metadata": {
    "collapsed": false
   },
   "outputs": [
    {
     "name": "stdout",
     "output_type": "stream",
     "text": [
      "1234567890\n",
      "  10000000\n"
     ]
    }
   ],
   "source": [
    "#  right justified, with 10\n",
    "print '1234567890' # for place holders\n",
    "print \"{:10d}\".format(10000000)"
   ]
  },
  {
   "cell_type": "code",
   "execution_count": 1,
   "metadata": {
    "collapsed": false
   },
   "outputs": [
    {
     "name": "stdout",
     "output_type": "stream",
     "text": [
      "0----5----0----5----0\n",
      "100        100       \n"
     ]
    }
   ],
   "source": [
    "#  left justified, with 10\n",
    "print '0----5----0----5----0' # place holder\n",
    "print \"{:<10d}\".format(100), \"{:<10d}\".format(100)"
   ]
  },
  {
   "cell_type": "code",
   "execution_count": 16,
   "metadata": {
    "collapsed": false
   },
   "outputs": [
    {
     "name": "stdout",
     "output_type": "stream",
     "text": [
      "1234567890\n",
      "   100    \n"
     ]
    }
   ],
   "source": [
    "#  center justified, width 10\n",
    "print '1234567890'\n",
    "print \"{:^10d}\".format(100)"
   ]
  },
  {
   "cell_type": "code",
   "execution_count": 9,
   "metadata": {
    "collapsed": false
   },
   "outputs": [
    {
     "name": "stdout",
     "output_type": "stream",
     "text": [
      "so much depends upon a red wheel barrow\n",
      "glazed with rain water beside the white chickens\n"
     ]
    }
   ],
   "source": [
    "# string substitution\n",
    "s1 = 'so much depends upon {}'.format('a red wheel barrow')\n",
    "s2 = 'glazed with {} water beside the {} chickens'.format('rain', 'white')\n",
    "print s1\n",
    "print s2"
   ]
  },
  {
   "cell_type": "code",
   "execution_count": 10,
   "metadata": {
    "collapsed": false
   },
   "outputs": [
    {
     "name": "stdout",
     "output_type": "stream",
     "text": [
      " emacs is better than vim \n",
      " vim is better than emacs \n"
     ]
    }
   ],
   "source": [
    "# another substitution\n",
    "s1 = \" {0} is better than {1} \".format(\"emacs\", \"vim\")\n",
    "s2 = \" {1} is better than {0} \".format(\"emacs\", \"vim\")\n",
    "print s1\n",
    "print s2"
   ]
  },
  {
   "cell_type": "code",
   "execution_count": 13,
   "metadata": {
    "collapsed": false
   },
   "outputs": [
    {
     "name": "stdout",
     "output_type": "stream",
     "text": [
      "<built-in method format of str object at 0x7fd474115198>\n",
      "Your email address was bob@example.com\n",
      "Your email address was a@cox.net\n",
      "Your email address was b@cox.net\n"
     ]
    }
   ],
   "source": [
    "## defining formats\n",
    "email_f = \"Your email address was {email}\".format\n",
    "print email_f\n",
    "## use elsewhere\n",
    "var1 = \"bob@example.com\"\n",
    "var2 = 'a@cox.net'\n",
    "var3 = 'b@cox.net'\n",
    "print(email_f(email=var1))\n",
    "print(email_f(email=var2))\n",
    "print(email_f(email=var3))\n"
   ]
  },
  {
   "cell_type": "code",
   "execution_count": null,
   "metadata": {
    "collapsed": true
   },
   "outputs": [],
   "source": []
  }
 ],
 "metadata": {
  "anaconda-cloud": {},
  "kernelspec": {
   "display_name": "Python [Root]",
   "language": "python",
   "name": "Python [Root]"
  },
  "language_info": {
   "codemirror_mode": {
    "name": "ipython",
    "version": 2
   },
   "file_extension": ".py",
   "mimetype": "text/x-python",
   "name": "python",
   "nbconvert_exporter": "python",
   "pygments_lexer": "ipython2",
   "version": "2.7.12"
  }
 },
 "nbformat": 4,
 "nbformat_minor": 0
}
