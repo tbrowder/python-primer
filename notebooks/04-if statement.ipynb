{
 "cells": [
  {
   "cell_type": "code",
   "execution_count": 2,
   "metadata": {
    "collapsed": false
   },
   "outputs": [
    {
     "name": "stdout",
     "output_type": "stream",
     "text": [
      "I am here\n"
     ]
    }
   ],
   "source": [
    "x = 10\n",
    "if x == 10:\n",
    "    print 'I am here'\n",
    "else:\n",
    "    print \"I am there\""
   ]
  },
  {
   "cell_type": "code",
   "execution_count": 3,
   "metadata": {
    "collapsed": false
   },
   "outputs": [
    {
     "name": "stdout",
     "output_type": "stream",
     "text": [
      "two\n"
     ]
    }
   ],
   "source": [
    "x = 10; y = 30; z = 100;\n",
    "\n",
    "if (x - y) > 0 or z % 30 == 20:\n",
    "    print 'one'\n",
    "elif (x - y) < 0 and z % 30 != 20:\n",
    "    print 'two'\n",
    "else:\n",
    "    print 'Three'"
   ]
  },
  {
   "cell_type": "code",
   "execution_count": 4,
   "metadata": {
    "collapsed": false
   },
   "outputs": [
    {
     "name": "stdout",
     "output_type": "stream",
     "text": [
      "Expression value is less than 200\n",
      "Which is 100\n",
      "Good bye!\n"
     ]
    }
   ],
   "source": [
    "var = 100\n",
    "if var < 200:\n",
    "    print \"Expression value is less than 200\"\n",
    "    if var == 150:\n",
    "        print \"Which is 150\"\n",
    "    elif var == 100:\n",
    "        print \"Which is 100\"\n",
    "    elif var == 50:\n",
    "        print \"Which is 50\"\n",
    "elif var < 50:\n",
    "    print \"Expression value is less than 50\"\n",
    "else:\n",
    "    print \"Could not find true expression\"\n",
    "\n",
    "print \"Good bye!\""
   ]
  }
 ],
 "metadata": {
  "anaconda-cloud": {},
  "kernelspec": {
   "display_name": "Python [Root]",
   "language": "python",
   "name": "Python [Root]"
  },
  "language_info": {
   "codemirror_mode": {
    "name": "ipython",
    "version": 2
   },
   "file_extension": ".py",
   "mimetype": "text/x-python",
   "name": "python",
   "nbconvert_exporter": "python",
   "pygments_lexer": "ipython2",
   "version": "2.7.12"
  },
  "widgets": {
   "state": {},
   "version": "1.1.1"
  }
 },
 "nbformat": 4,
 "nbformat_minor": 0
}
